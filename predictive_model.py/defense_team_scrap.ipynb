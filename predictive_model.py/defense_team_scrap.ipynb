{
 "cells": [
  {
   "cell_type": "code",
   "execution_count": 128,
   "metadata": {},
   "outputs": [],
   "source": [
    "from urllib.request import urlopen\n",
    "from bs4 import BeautifulSoup\n",
    "import pandas as pd\n",
    "import requests"
   ]
  },
  {
   "cell_type": "code",
   "execution_count": 129,
   "metadata": {},
   "outputs": [],
   "source": [
    "year = 2023\n",
    "url = \"http://pfref.com/pi/share/gL6Ax\"\n",
    "response = requests.get(url)\n",
    "response.raise_for_status()\n",
    "soup = BeautifulSoup(response.content, 'html.parser')"
   ]
  },
  {
   "cell_type": "code",
   "execution_count": 154,
   "metadata": {},
   "outputs": [
    {
     "name": "stdout",
     "output_type": "stream",
     "text": [
      "Adjusted Headers: ['Tm', 'Att', 'Yds', 'TD']\n"
     ]
    }
   ],
   "source": [
    "headers = [th.get_text(strip=True) for th in soup.findAll('tr')[1].findAll('th')]\n",
    "\n",
    "# Desired columns (with \"Tm\" as the first header)\n",
    "desired_columns = [\"Tm\", \"G\", \"Att\", \"Yds\", \"TD\"]\n",
    "\n",
    "# Adjust headers to include only desired columns\n",
    "adjusted_headers = [header for header in headers if header in desired_columns]\n",
    "\n",
    "# Print the headers for verification\n",
    "print(\"Adjusted Headers:\", adjusted_headers)"
   ]
  },
  {
   "cell_type": "code",
   "execution_count": 155,
   "metadata": {},
   "outputs": [],
   "source": [
    "rows = soup.findAll('tr')[2:]  # Skip header rows\n",
    "\n",
    "player_stats = []\n",
    "for row in rows:\n",
    "    # The team name might be in the first <th> or <td> cell\n",
    "    team_name = row.find('th').get_text(strip=True) if row.find('th') else row.find('td').get_text(strip=True)\n",
    "    \n",
    "    # Get the rest of the data cells (<td>)\n",
    "    cells = [td.get_text(strip=True) for td in row.findAll('td')]\n",
    "    \n",
    "    # Combine team name with the rest of the data cells\n",
    "    if len(cells) == len(adjusted_headers) - 1:\n",
    "        player_stats.append([team_name] + cells)\n",
    "    else:\n",
    "        print(f\"Skipping row: {cells} (Expected {len(adjusted_headers) - 1} data columns, got {len(cells)})\")"
   ]
  },
  {
   "cell_type": "code",
   "execution_count": 157,
   "metadata": {},
   "outputs": [
    {
     "name": "stdout",
     "output_type": "stream",
     "text": [
      "                   Tm   Att    Yds    TD\n",
      "0   Arizona Cardinals  25.8  119.2  0.82\n",
      "1    Seattle Seahawks  24.0  106.8  1.12\n",
      "2      Denver Broncos  22.6  118.4  0.71\n",
      "3   Carolina Panthers  24.9  109.0  1.24\n",
      "4  Indianapolis Colts  25.7  103.9  0.94\n"
     ]
    }
   ],
   "source": [
    "stats = pd.DataFrame(player_stats, columns=adjusted_headers)\n",
    "\n",
    "# Step 7: Display the first few rows of the DataFrame\n",
    "print(stats.head())"
   ]
  },
  {
   "cell_type": "code",
   "execution_count": 158,
   "metadata": {},
   "outputs": [],
   "source": [
    "stats.to_csv('23_defense_rush_stats.csv')"
   ]
  }
 ],
 "metadata": {
  "kernelspec": {
   "display_name": "base",
   "language": "python",
   "name": "python3"
  },
  "language_info": {
   "codemirror_mode": {
    "name": "ipython",
    "version": 3
   },
   "file_extension": ".py",
   "mimetype": "text/x-python",
   "name": "python",
   "nbconvert_exporter": "python",
   "pygments_lexer": "ipython3",
   "version": "3.12.4"
  }
 },
 "nbformat": 4,
 "nbformat_minor": 2
}
