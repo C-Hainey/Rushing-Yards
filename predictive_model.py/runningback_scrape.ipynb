{
 "cells": [
  {
   "cell_type": "code",
   "execution_count": 15,
   "metadata": {},
   "outputs": [],
   "source": [
    "from urllib.request import urlopen\n",
    "from bs4 import BeautifulSoup\n",
    "import pandas as pd\n",
    "import requests"
   ]
  },
  {
   "cell_type": "code",
   "execution_count": 16,
   "metadata": {},
   "outputs": [],
   "source": [
    "url = \"http://pfref.com/pi/share/kZhgC\"\n",
    "response = requests.get(url)\n",
    "response.raise_for_status()\n",
    "soup = BeautifulSoup(response.content, 'html.parser')"
   ]
  },
  {
   "cell_type": "code",
   "execution_count": 23,
   "metadata": {},
   "outputs": [
    {
     "name": "stdout",
     "output_type": "stream",
     "text": [
      "['Player', 'Tm', 'G', 'Att', 'Yds']\n"
     ]
    }
   ],
   "source": [
    "headers = [th.getText() for th in soup.findAll('tr')[1].findAll('th')] #Find the second table row tag, find every table header column within it and extract the html text via the get_text method.\n",
    "headers = headers[1:] #Do not need the first (0 index) column header\n",
    "print(headers[:5])"
   ]
  },
  {
   "cell_type": "code",
   "execution_count": 24,
   "metadata": {},
   "outputs": [],
   "source": [
    "rows = soup.findAll('tr', class_ = lambda table_rows: table_rows != \"thead\") #Here we grab all rows that are not classed as table header rows - football reference throws in a table header row everyy 30 rows \n",
    "player_stats = [[td.getText() for td in rows[i].findAll('td')] # get the table data cell text from each table data cell\n",
    "                for i in range(len(rows))] #for each row\n",
    "player_stats = player_stats[2:]"
   ]
  },
  {
   "cell_type": "code",
   "execution_count": 25,
   "metadata": {},
   "outputs": [
    {
     "data": {
      "text/html": [
       "<div>\n",
       "<style scoped>\n",
       "    .dataframe tbody tr th:only-of-type {\n",
       "        vertical-align: middle;\n",
       "    }\n",
       "\n",
       "    .dataframe tbody tr th {\n",
       "        vertical-align: top;\n",
       "    }\n",
       "\n",
       "    .dataframe thead th {\n",
       "        text-align: right;\n",
       "    }\n",
       "</style>\n",
       "<table border=\"1\" class=\"dataframe\">\n",
       "  <thead>\n",
       "    <tr style=\"text-align: right;\">\n",
       "      <th></th>\n",
       "      <th>Player</th>\n",
       "      <th>Tm</th>\n",
       "      <th>G</th>\n",
       "      <th>Att</th>\n",
       "      <th>Yds</th>\n",
       "      <th>TD</th>\n",
       "      <th>Lng</th>\n",
       "      <th>Y/A</th>\n",
       "      <th>Y/G</th>\n",
       "    </tr>\n",
       "  </thead>\n",
       "  <tbody>\n",
       "    <tr>\n",
       "      <th>0</th>\n",
       "      <td>Derrick Henry*</td>\n",
       "      <td>TEN</td>\n",
       "      <td>17</td>\n",
       "      <td>280</td>\n",
       "      <td>1167</td>\n",
       "      <td>12</td>\n",
       "      <td>69</td>\n",
       "      <td>4.2</td>\n",
       "      <td>68.6</td>\n",
       "    </tr>\n",
       "    <tr>\n",
       "      <th>1</th>\n",
       "      <td>Christian McCaffrey*+</td>\n",
       "      <td>SFO</td>\n",
       "      <td>16</td>\n",
       "      <td>272</td>\n",
       "      <td>1459</td>\n",
       "      <td>14</td>\n",
       "      <td>72</td>\n",
       "      <td>5.4</td>\n",
       "      <td>91.2</td>\n",
       "    </tr>\n",
       "    <tr>\n",
       "      <th>2</th>\n",
       "      <td>Rachaad White</td>\n",
       "      <td>TAM</td>\n",
       "      <td>17</td>\n",
       "      <td>272</td>\n",
       "      <td>990</td>\n",
       "      <td>6</td>\n",
       "      <td>38</td>\n",
       "      <td>3.6</td>\n",
       "      <td>58.2</td>\n",
       "    </tr>\n",
       "    <tr>\n",
       "      <th>3</th>\n",
       "      <td>Travis Etienne</td>\n",
       "      <td>JAX</td>\n",
       "      <td>17</td>\n",
       "      <td>267</td>\n",
       "      <td>1008</td>\n",
       "      <td>11</td>\n",
       "      <td>62</td>\n",
       "      <td>3.8</td>\n",
       "      <td>59.3</td>\n",
       "    </tr>\n",
       "    <tr>\n",
       "      <th>4</th>\n",
       "      <td>Joe Mixon</td>\n",
       "      <td>CIN</td>\n",
       "      <td>17</td>\n",
       "      <td>257</td>\n",
       "      <td>1034</td>\n",
       "      <td>9</td>\n",
       "      <td>44</td>\n",
       "      <td>4.0</td>\n",
       "      <td>60.8</td>\n",
       "    </tr>\n",
       "  </tbody>\n",
       "</table>\n",
       "</div>"
      ],
      "text/plain": [
       "                  Player   Tm   G  Att   Yds  TD Lng  Y/A   Y/G\n",
       "0         Derrick Henry*  TEN  17  280  1167  12  69  4.2  68.6\n",
       "1  Christian McCaffrey*+  SFO  16  272  1459  14  72  5.4  91.2\n",
       "2          Rachaad White  TAM  17  272   990   6  38  3.6  58.2\n",
       "3         Travis Etienne  JAX  17  267  1008  11  62  3.8  59.3\n",
       "4              Joe Mixon  CIN  17  257  1034   9  44  4.0  60.8"
      ]
     },
     "execution_count": 25,
     "metadata": {},
     "output_type": "execute_result"
    }
   ],
   "source": [
    "stats = pd.DataFrame(player_stats, columns = headers)\n",
    "stats.head()"
   ]
  },
  {
   "cell_type": "code",
   "execution_count": 26,
   "metadata": {},
   "outputs": [],
   "source": [
    "stats.to_csv('23_rb_stats.csv')"
   ]
  },
  {
   "cell_type": "code",
   "execution_count": null,
   "metadata": {},
   "outputs": [],
   "source": []
  }
 ],
 "metadata": {
  "kernelspec": {
   "display_name": "base",
   "language": "python",
   "name": "python3"
  },
  "language_info": {
   "codemirror_mode": {
    "name": "ipython",
    "version": 3
   },
   "file_extension": ".py",
   "mimetype": "text/x-python",
   "name": "python",
   "nbconvert_exporter": "python",
   "pygments_lexer": "ipython3",
   "version": "3.12.4"
  }
 },
 "nbformat": 4,
 "nbformat_minor": 2
}
